{
  "cells": [
    {
      "cell_type": "markdown",
      "metadata": {
        "id": "MOcivCvVNljY"
      },
      "source": [
        "# Import Packages"
      ]
    },
    {
      "cell_type": "code",
      "execution_count": null,
      "metadata": {
        "id": "XJfTw340KLCW"
      },
      "outputs": [],
      "source": [
        "# File handling\n",
        "import pickle\n",
        "import os\n",
        "\n",
        "# Data handling\n",
        "import numpy as np\n",
        "import pandas as pd\n",
        "import re\n",
        "from sklearn.preprocessing import LabelEncoder\n",
        "\n",
        "# Data visualization\n",
        "import seaborn as sns\n",
        "import matplotlib.pyplot as plt\n",
        "\n",
        "# Model training\n",
        "import tensorflow as tf\n",
        "from tensorflow.keras.layers import *\n",
        "from keras.callbacks import ModelCheckpoint, EarlyStopping\n",
        "from keras.optimizers import Adam\n",
        "from keras.models import Model, load_model\n",
        "\n",
        "# Model evaluation\n",
        "from sklearn.model_selection import train_test_split\n",
        "from sklearn.metrics import confusion_matrix, classification_report"
      ]
    },
    {
      "cell_type": "markdown",
      "metadata": {
        "id": "0DkkRKfJOKNf"
      },
      "source": [
        "## Connect to Drive\n"
      ]
    },
    {
      "cell_type": "code",
      "execution_count": null,
      "metadata": {
        "colab": {
          "base_uri": "https://localhost:8080/"
        },
        "id": "PIiKsW1r86KF",
        "outputId": "62d649b7-0bf6-475a-90ca-9a91e3e87a57"
      },
      "outputs": [
        {
          "output_type": "stream",
          "name": "stdout",
          "text": [
            "Drive already mounted at /content/drive; to attempt to forcibly remount, call drive.mount(\"/content/drive\", force_remount=True).\n"
          ]
        }
      ],
      "source": [
        "from google.colab import drive\n",
        "drive.mount('/content/drive')"
      ]
    },
    {
      "cell_type": "markdown",
      "metadata": {
        "id": "WgLBD2-ZOFZU"
      },
      "source": [
        "## Connect to GPU"
      ]
    },
    {
      "cell_type": "code",
      "execution_count": null,
      "metadata": {
        "id": "isiukiXdN5Tm"
      },
      "outputs": [],
      "source": [
        "# device_name = tf.test.gpu_device_name()\n",
        "# if device_name != '/device:GPU:0':\n",
        "#   raise SystemError('GPU device not found')\n",
        "# print('Found GPU at: {}'.format(device_name))\n",
        "\n",
        "# # GPU found (colab)\n",
        "# tf.device('/device:GPU:0')"
      ]
    },
    {
      "cell_type": "markdown",
      "metadata": {
        "id": "BqUjt3OtOQOE"
      },
      "source": [
        "## Move to data dir"
      ]
    },
    {
      "cell_type": "code",
      "execution_count": null,
      "metadata": {
        "id": "trx-BFgeKa-n"
      },
      "outputs": [],
      "source": [
        "os.chdir('drive/MyDrive/BSA-data/')"
      ]
    },
    {
      "cell_type": "markdown",
      "metadata": {
        "id": "7Un0oM7aNS_R"
      },
      "source": [
        "# Read Pickle files"
      ]
    },
    {
      "cell_type": "code",
      "execution_count": null,
      "metadata": {
        "id": "67flJsNbKsyQ"
      },
      "outputs": [],
      "source": [
        "dev_df = pickle.load(open('dev_df_processed.pkl','rb'))\n",
        "test_df = pickle.load(open('test_df_processed.pkl','rb'))\n",
        "train_df = pickle.load(open('train_df_processed1.pkl','rb')) # Using only top 3000 sentences\n",
        "\n",
        "# train_df2 = pickle.load(open('train_df_processed2.pkl','rb'))\n",
        "#\n",
        "# train_df = pd.concat([train_df1,train_df2],ignore_index=True) # join both dfs\n",
        "# del train_df1,train_df2"
      ]
    },
    {
      "cell_type": "markdown",
      "metadata": {
        "id": "U_zXyICRNNFZ"
      },
      "source": [
        "# Label encode Sentiment/Emotion"
      ]
    },
    {
      "cell_type": "code",
      "execution_count": null,
      "metadata": {
        "id": "i2wv4QkgMTwE"
      },
      "outputs": [],
      "source": [
        "# Helper Function\n",
        "def Label_encode(df,e_col,s_col):\n",
        "  # Create a LabelEncoder instance\n",
        "  emotion_encoder = LabelEncoder()\n",
        "  sentiment_encoder = LabelEncoder()\n",
        "\n",
        "  # Fit and transform the column to label encode\n",
        "  encoded_emotions = emotion_encoder.fit_transform(df[e_col])\n",
        "  encoded_sentiments = sentiment_encoder.fit_transform(df[s_col])\n",
        "\n",
        "  # Store the mappings of original labels and encoded values in a dictionary\n",
        "  emotion_mapping = dict(zip(emotion_encoder.classes_, emotion_encoder.transform(emotion_encoder.classes_)))\n",
        "  sentiment_mapping = dict(zip(sentiment_encoder.classes_, sentiment_encoder.transform(sentiment_encoder.classes_)))\n",
        "\n",
        "  # Add encoded column to DataFrame\n",
        "  df[s_col+\"_encoded\"] = encoded_sentiments\n",
        "  df[e_col+\"_encoded\"] = encoded_emotions\n",
        "\n",
        "  return df, emotion_mapping, sentiment_mapping"
      ]
    },
    {
      "cell_type": "code",
      "execution_count": null,
      "metadata": {
        "colab": {
          "base_uri": "https://localhost:8080/"
        },
        "id": "70DLU8PdPOEC",
        "outputId": "a478f6c9-c203-4b31-9c17-e0b9b6bb18e9"
      },
      "outputs": [
        {
          "output_type": "stream",
          "name": "stdout",
          "text": [
            "Emotion Mapping:  {'anger': 0, 'disgust': 1, 'fear': 2, 'joy': 3, 'neutral': 4, 'sadness': 5, 'surprise': 6}\n",
            "Sentimnet Mapping:  {'negative': 0, 'neutral': 1, 'positive': 2}\n"
          ]
        }
      ],
      "source": [
        "s_col = 'Sentiment'\n",
        "e_col = 'Emotion'\n",
        "\n",
        "dev_df,emotion_mapping,sentiment_mapping = Label_encode(dev_df,e_col,s_col)\n",
        "test_df,_,_ = Label_encode(test_df,e_col,s_col)\n",
        "train_df,_,_= Label_encode(train_df,e_col,s_col)\n",
        "\n",
        "print(\"Emotion Mapping: \",emotion_mapping)\n",
        "print(\"Sentimnet Mapping: \",sentiment_mapping)"
      ]
    },
    {
      "cell_type": "code",
      "execution_count": null,
      "metadata": {
        "colab": {
          "base_uri": "https://localhost:8080/"
        },
        "id": "cdqeDM0VG74w",
        "outputId": "0f130a6d-5f97-4729-a202-3d0364fe00d9"
      },
      "outputs": [
        {
          "output_type": "stream",
          "name": "stdout",
          "text": [
            "<class 'numpy.int64'>\n",
            "<class 'numpy.int64'>\n"
          ]
        }
      ],
      "source": [
        "print(type(train_df['Emotion_encoded'][0]))\n",
        "print(type(train_df['Sentiment_encoded'][0]))"
      ]
    },
    {
      "cell_type": "markdown",
      "metadata": {
        "id": "ebD9mL3IVLXQ"
      },
      "source": [
        "### Make a table for num of emotions, sentiments per dataset"
      ]
    },
    {
      "cell_type": "markdown",
      "metadata": {
        "id": "BcQZrUZ3R36B"
      },
      "source": [
        "# Design Text-CNN Model"
      ]
    },
    {
      "cell_type": "code",
      "execution_count": null,
      "metadata": {
        "id": "9Bqv7Z6AQKij"
      },
      "outputs": [],
      "source": [
        "# Hyperparameters\n",
        "sentence_length = 350\n",
        "embedding_dim = 300\n",
        "num_filters = 100\n",
        "filter_sizes = [3, 4, 5]\n",
        "dropout_rate = 0.5\n",
        "\n",
        "def create_model(num_classes):\n",
        "  print(\"Creating Model...\")\n",
        "\n",
        "  # Input layer\n",
        "  inputs = Input(shape=(sentence_length, embedding_dim))\n",
        "  print(f\"Input: {inputs.shape}\")\n",
        "\n",
        "  # Convolutional layers with different filter sizes\n",
        "  conv_blocks = []\n",
        "  for i in range(num_classes):\n",
        "\n",
        "      block=[]\n",
        "      for filter_size in filter_sizes:\n",
        "          conv = tf.keras.layers.Conv1D(num_filters, filter_size, activation='relu')(inputs)\n",
        "          pool = tf.keras.layers.GlobalMaxPooling1D()(conv)\n",
        "          block.append(pool)\n",
        "\n",
        "      # Concatenate outputs from different filter sizes\n",
        "      conv_block = tf.keras.layers.Concatenate()(block)\n",
        "\n",
        "      # Dense layer for feature learning\n",
        "      dense = Dense(300, activation='tanh')(conv_block)\n",
        "\n",
        "      print(f\"Conv-block + Dense {i}: {conv_block.shape}, {dense.shape}\")\n",
        "\n",
        "      # Add dropout for regularization\n",
        "      dropout = tf.keras.layers.Dropout(dropout_rate)(dense)\n",
        "\n",
        "      # Join in a list\n",
        "      conv_blocks.append(dropout)\n",
        "\n",
        "  def stack(x):\n",
        "        return tf.stack(x, axis=1)\n",
        "\n",
        "  cnn_outputs = Lambda(stack)(conv_blocks) # Join all word layers into a sentence layer\n",
        "  print(\"Sentence: \",cnn_outputs.shape)\n",
        "\n",
        "  masked = Masking(mask_value =0)(cnn_outputs)\n",
        "  print(\"Masked: \",masked.shape)\n",
        "\n",
        "  lstm1 = Bidirectional(LSTM(300, activation='relu', return_sequences = True, dropout=0.3))(masked)\n",
        "  print(\"LSTM1: \",lstm1.shape)\n",
        "\n",
        "  lstm2 = Bidirectional(LSTM(300, activation='relu', return_sequences = False, dropout=0.3), name=\"utter\")(lstm1)\n",
        "  print(\"LSTM2: \",lstm2.shape)\n",
        "\n",
        "  # Output layer\n",
        "  outputs = Dense(num_classes,activation='softmax')(lstm2)\n",
        "  print(\"Output: \",outputs.shape)\n",
        "\n",
        "  # Create the model\n",
        "  model = Model(inputs, outputs)\n",
        "  return model\n",
        "\n"
      ]
    },
    {
      "cell_type": "code",
      "execution_count": null,
      "metadata": {
        "colab": {
          "base_uri": "https://localhost:8080/"
        },
        "id": "fcId2FEeVKxq",
        "outputId": "7152d9e1-9df4-4ada-a629-7a94d4aec88c"
      },
      "outputs": [
        {
          "output_type": "stream",
          "name": "stdout",
          "text": [
            "Creating Model...\n",
            "Input: (None, 350, 300)\n",
            "Conv-block + Dense 0: (None, 300), (None, 300)\n",
            "Conv-block + Dense 1: (None, 300), (None, 300)\n",
            "Conv-block + Dense 2: (None, 300), (None, 300)\n",
            "Sentence:  (None, 3, 300)\n",
            "Masked:  (None, 3, 300)\n",
            "LSTM1:  (None, 3, 600)\n",
            "LSTM2:  (None, 600)\n",
            "Output:  (None, 3)\n",
            "Creating Model...\n",
            "Input: (None, 350, 300)\n",
            "Conv-block + Dense 0: (None, 300), (None, 300)\n",
            "Conv-block + Dense 1: (None, 300), (None, 300)\n",
            "Conv-block + Dense 2: (None, 300), (None, 300)\n",
            "Conv-block + Dense 3: (None, 300), (None, 300)\n",
            "Conv-block + Dense 4: (None, 300), (None, 300)\n",
            "Conv-block + Dense 5: (None, 300), (None, 300)\n",
            "Conv-block + Dense 6: (None, 300), (None, 300)\n",
            "Sentence:  (None, 7, 300)\n",
            "Masked:  (None, 7, 300)\n",
            "LSTM1:  (None, 7, 600)\n",
            "LSTM2:  (None, 600)\n",
            "Output:  (None, 7)\n"
          ]
        }
      ],
      "source": [
        "sentiment_model = create_model(len(sentiment_mapping))\n",
        "# Compile the model with appropriate loss and optimizer\n",
        "sentiment_model.compile(loss='categorical_crossentropy', optimizer='adam', metrics=['accuracy'])\n",
        "\n",
        "emotion_model = create_model(len(emotion_mapping))\n",
        "# Compile the model with appropriate loss and optimizer\n",
        "emotion_model.compile(loss='categorical_crossentropy', optimizer='adam', metrics=['accuracy'])"
      ]
    },
    {
      "cell_type": "markdown",
      "metadata": {
        "id": "TNjuvl-QZHuw"
      },
      "source": [
        "# Train Model"
      ]
    },
    {
      "cell_type": "code",
      "execution_count": null,
      "metadata": {
        "id": "Xy0EfNekZVgx"
      },
      "outputs": [],
      "source": [
        "size = 1000"
      ]
    },
    {
      "cell_type": "code",
      "execution_count": null,
      "metadata": {
        "id": "kqbQIQLQVcmC"
      },
      "outputs": [],
      "source": [
        "def train_model(num_classes,model,epochs):\n",
        "  if num_classes == len(sentiment_mapping): # sentiment model\n",
        "    model_type = \"Sentiment\"\n",
        "  elif num_classes == len(emotion_mapping): # emotion model\n",
        "    model_type = \"Emotion\"\n",
        "  else:\n",
        "    return \"Wrong number of classes\"\n",
        "\n",
        "  x_train = np.asarray(train_df['Word_embeddings'][:size].to_list())\n",
        "  y_train = train_df[f'{model_type}_encoded'][:size].to_numpy()\n",
        "  y_train = tf.one_hot(y_train,num_classes) # One hot encode each sentiment\n",
        "\n",
        "  x_val = np.asarray(dev_df['Word_embeddings'][:size].to_list())\n",
        "  y_val = dev_df[f'{model_type}_encoded'][:size].to_numpy()\n",
        "  y_val = tf.one_hot(y_val,num_classes)\n",
        "\n",
        "  # Train the model\n",
        "  history = model.fit(x_train, y_train, epochs=epochs,verbose=1,validation_data=(x_val,y_val))\n",
        "\n",
        "  return history"
      ]
    },
    {
      "cell_type": "code",
      "execution_count": null,
      "metadata": {
        "colab": {
          "base_uri": "https://localhost:8080/"
        },
        "id": "OFxDIa2Epf06",
        "outputId": "d386fce4-3e60-4391-8484-f0969672f713"
      },
      "outputs": [
        {
          "output_type": "stream",
          "name": "stdout",
          "text": [
            "\n",
            "\n",
            "\n",
            "Epoch 1/10\n",
            "32/32 [==============================] - 176s 5s/step - loss: 1.5923 - accuracy: 0.4720 - val_loss: 1.6881 - val_accuracy: 0.4280\n",
            "Epoch 2/10\n",
            "32/32 [==============================] - 157s 5s/step - loss: 1.5302 - accuracy: 0.4790 - val_loss: 1.6358 - val_accuracy: 0.4280\n",
            "Epoch 3/10\n",
            "32/32 [==============================] - 147s 5s/step - loss: 1.4053 - accuracy: 0.4840 - val_loss: 1.6581 - val_accuracy: 0.4360\n",
            "Epoch 4/10\n",
            "32/32 [==============================] - 146s 5s/step - loss: 1.1325 - accuracy: 0.6030 - val_loss: 1.7904 - val_accuracy: 0.2540\n",
            "Epoch 5/10\n",
            "32/32 [==============================] - 136s 4s/step - loss: 0.9371 - accuracy: 0.6570 - val_loss: 1.9199 - val_accuracy: 0.4340\n",
            "Epoch 6/10\n",
            "32/32 [==============================] - 139s 4s/step - loss: 0.7279 - accuracy: 0.7440 - val_loss: 1.8372 - val_accuracy: 0.3830\n",
            "Epoch 7/10\n",
            "32/32 [==============================] - 139s 4s/step - loss: 0.4881 - accuracy: 0.8370 - val_loss: 2.1656 - val_accuracy: 0.3950\n",
            "Epoch 8/10\n",
            "32/32 [==============================] - 139s 4s/step - loss: 0.3764 - accuracy: 0.8700 - val_loss: 3.0650 - val_accuracy: 0.3620\n",
            "Epoch 9/10\n",
            "32/32 [==============================] - 139s 4s/step - loss: 0.3538 - accuracy: 0.8650 - val_loss: 3.9496 - val_accuracy: 0.3820\n",
            "Epoch 10/10\n",
            "32/32 [==============================] - 143s 5s/step - loss: 0.3691 - accuracy: 0.8910 - val_loss: 2.7832 - val_accuracy: 0.4040\n"
          ]
        }
      ],
      "source": [
        "# sentiment_hist = train_model(len(sentiment_mapping),sentiment_model,10)\n",
        "print(\"\\n\\n\")\n",
        "emotion_hist = train_model(len(emotion_mapping),emotion_model,10)"
      ]
    },
    {
      "cell_type": "markdown",
      "metadata": {
        "id": "v7XIkS3MZWAF"
      },
      "source": [
        "# Evaluate models"
      ]
    },
    {
      "cell_type": "code",
      "execution_count": null,
      "metadata": {
        "id": "06kUw8LUYp8X"
      },
      "outputs": [],
      "source": [
        "def evaluate_model(num_classes,model):\n",
        "  if num_classes == len(sentiment_mapping): # sentiment model\n",
        "    model_type = \"Sentiment\"\n",
        "  elif num_classes == len(emotion_mapping): # emotion model\n",
        "    model_type = \"Emotion\"\n",
        "  else:\n",
        "    return \"Wrong number of classes\"\n",
        "\n",
        "  # Evaluate model\n",
        "  x_test = np.asarray(test_df['Word_embeddings'][:size].to_list())\n",
        "  y_test = test_df[f'{model_type}_encoded'][:size].to_numpy() # Add a word dimension\n",
        "  y_test = tf.one_hot(y_test,num_classes)\n",
        "\n",
        "  # Evaluate model\n",
        "  loss, acc = model.evaluate(x_test,y_test)\n",
        "  print(f\"Loss: {loss}, Acc: {acc}\")\n",
        "  return loss, acc"
      ]
    },
    {
      "cell_type": "code",
      "execution_count": null,
      "metadata": {
        "colab": {
          "base_uri": "https://localhost:8080/"
        },
        "id": "w3FqxTXQZEFC",
        "outputId": "3eb86ca4-862e-4de0-fc58-cc0bec448791"
      },
      "outputs": [
        {
          "output_type": "stream",
          "name": "stdout",
          "text": [
            "32/32 [==============================] - 42s 1s/step - loss: 2.7710 - accuracy: 0.4280\n",
            "Loss: 2.7710392475128174, Acc: 0.42800000309944153\n"
          ]
        }
      ],
      "source": [
        "# sent_loss,sent_acc = evaluate_model(len(sentiment_mapping),sentiment_model)\n",
        "em_loss,em_acc = evaluate_model(len(emotion_mapping),emotion_model)"
      ]
    },
    {
      "cell_type": "markdown",
      "metadata": {
        "id": "mzbfe-jfYcxL"
      },
      "source": [
        "# Plot training loss, accuracy\n"
      ]
    },
    {
      "cell_type": "code",
      "execution_count": null,
      "metadata": {
        "id": "gcTGDEPpYU9_"
      },
      "outputs": [],
      "source": [
        "def plot_hist(history, name):\n",
        "  loss_train = history.history['loss']\n",
        "  loss_val = history.history['val_loss']\n",
        "  acc_train = history.history['accuracy']\n",
        "  acc_val = history.history['val_accuracy']  # Assuming 'accuracy' is the metric\n",
        "\n",
        "  epochs = range(1, len(loss_train) + 1)\n",
        "\n",
        "  plt.figure(figsize=(10, 6))\n",
        "  # Loss plot\n",
        "  plt.plot(epochs, loss_train, label='Training Loss')\n",
        "  plt.plot(epochs, loss_val, label='Validation Loss')\n",
        "  plt.title(f'{name} Training and Validation Loss')\n",
        "  plt.xlabel('Epochs')\n",
        "  plt.ylabel('Loss')\n",
        "  plt.legend()\n",
        "  # plt.savefig(f\"Figures/{name}_loss_plot.pdf\",dpi=300)\n",
        "  plt.show()\n",
        "\n",
        "  # Accuracy plot (similarly)\n",
        "  plt.figure(figsize=(10, 6))\n",
        "  plt.plot(epochs, acc_train, label='Training Accuracy')\n",
        "  plt.plot(epochs, acc_val, label='Validation Accuracy')\n",
        "  plt.title(f'{name} Training and Validation Accuracy')\n",
        "  plt.xlabel('Epochs')\n",
        "  plt.ylabel('Accuracy')\n",
        "  plt.legend()\n",
        "  # plt.savefig(f\"Figures/{name}_acc_plot.pdf\",dpi=300)\n",
        "  plt.show()"
      ]
    },
    {
      "cell_type": "code",
      "execution_count": null,
      "metadata": {
        "id": "qQYS89fJa4LW"
      },
      "outputs": [],
      "source": [
        "plot_hist(sentiment_hist,\"Sentiment Model\")"
      ]
    },
    {
      "cell_type": "code",
      "execution_count": null,
      "metadata": {
        "colab": {
          "base_uri": "https://localhost:8080/",
          "height": 1000
        },
        "id": "_0a5u3q4bMye",
        "outputId": "937cadc9-638c-4d1a-ec7f-a818816cdfa3"
      },
      "outputs": [
        {
          "output_type": "display_data",
          "data": {
            "text/plain": [
              "<Figure size 1000x600 with 1 Axes>"
            ],
            "image/png": "[encoded data removed]"
          },
          "metadata": {}
        },
        {
          "output_type": "display_data",
          "data": {
            "text/plain": [
              "<Figure size 1000x600 with 1 Axes>"
            ],
            "image/png": "[encoded data removed]"
          },
          "metadata": {}
        }
      ],
      "source": [
        "plot_hist(emotion_hist,\"Emotion Model\")"
      ]
    },
    {
      "cell_type": "markdown",
      "metadata": {
        "id": "cIbPUqEK6WDL"
      },
      "source": [
        "# Further Evaluation"
      ]
    },
    {
      "cell_type": "markdown",
      "metadata": {
        "id": "n8eVwuo_6wOJ"
      },
      "source": [
        "## Confusion Matrix"
      ]
    },
    {
      "cell_type": "code",
      "execution_count": null,
      "metadata": {
        "colab": {
          "base_uri": "https://localhost:8080/"
        },
        "id": "nrYopjJG6aQ1",
        "outputId": "cce819d5-20f6-4c72-a656-19f7d04e783f"
      },
      "outputs": [
        {
          "output_type": "stream",
          "name": "stdout",
          "text": [
            "32/32 [==============================] - 40s 1s/step\n"
          ]
        }
      ],
      "source": [
        "from sklearn.metrics import confusion_matrix\n",
        "\n",
        "x_test = np.asarray(test_df['Word_embeddings'][:size].to_list())\n",
        "\n",
        "# # predict sentiments\n",
        "# y_test = test_df[f'Sentiment_encoded'][:size].to_numpy() # Add a word dimension\n",
        "\n",
        "# sent_pred = np.argmax(sentiment_model.predict(x_test), axis=1)\n",
        "# sent_cm = confusion_matrix(y_test, sent_pred)\n",
        "\n",
        "# predict emotions\n",
        "y_test = test_df[f'Emotion_encoded'][:size].to_numpy() # Add a word dimension\n",
        "\n",
        "emo_pred = np.argmax(emotion_model.predict(x_test), axis=1)\n",
        "emo_cm = confusion_matrix(y_test, emo_pred)"
      ]
    },
    {
      "cell_type": "code",
      "execution_count": null,
      "metadata": {
        "colab": {
          "base_uri": "https://localhost:8080/",
          "height": 472
        },
        "id": "SMyOMKwP9_zw",
        "outputId": "2f3e1afa-575b-41d0-ee0c-cd6b76ade4a9"
      },
      "outputs": [
        {
          "output_type": "display_data",
          "data": {
            "text/plain": [
              "<Figure size 640x480 with 2 Axes>"
            ],
            "image/png": "[encoded data removed]"
          },
          "metadata": {}
        }
      ],
      "source": [
        "# sns.heatmap(sent_cm, annot=True, fmt='d', cmap='Blues')  # Customize as needed\n",
        "# plt.title('Confusion Matrix')\n",
        "# plt.xlabel('Predicted')\n",
        "# plt.ylabel('True')\n",
        "# # plt.savefig(\"Figures/sent_confusion_mat.pdf\",dpi=300)\n",
        "# plt.show()\n",
        "\n",
        "sns.heatmap(emo_cm, annot=True, fmt='d', cmap='Blues')  # Customize as needed\n",
        "plt.title('Confusion Matrix')\n",
        "plt.xlabel('Predicted')\n",
        "plt.ylabel('True')\n",
        "# plt.savefig(\"Figures/emo_confusion_mat.pdf\",dpi=300)\n",
        "plt.show()"
      ]
    },
    {
      "cell_type": "markdown",
      "metadata": {
        "id": "UPlDhIWDFQyR"
      },
      "source": [
        "## Acc, recall,f1 etc"
      ]
    },
    {
      "cell_type": "code",
      "execution_count": null,
      "metadata": {
        "id": "Kj7SXiG99aCc"
      },
      "outputs": [],
      "source": [
        "def calculate_metrics(cm):\n",
        "    \"\"\"Calculates TP, FP, TN, FN for multi-class confusion matrices.\n",
        "\n",
        "    Args:\n",
        "        cm (numpy.ndarray): The confusion matrix.\n",
        "\n",
        "    Returns:\n",
        "        tuple: (TP, FP, TN, FN)\n",
        "    \"\"\"\n",
        "\n",
        "    TP = np.diag(cm)  # Sum of diagonal elements (true positives)\n",
        "    FP = cm.sum(axis=0) - np.diag(cm)  # Sum of each row minus diagonal (false positives)\n",
        "    FN = cm.sum(axis=1) - np.diag(cm)  # Sum of each column minus diagonal (false negatives)\n",
        "    TN = cm.sum() - (TP + FP + FN)  # Total elements minus TP, FP, FN (true negatives)\n",
        "\n",
        "    return TP, FP, TN, FN\n",
        "\n",
        "def class_metrics(metrics_df,cm):\n",
        "    \"\"\"Calculates accuracy, precision, recall, specificity, F1-score, FPR, FNR, and MCC for each class.\n",
        "\n",
        "    Args:\n",
        "        cm (numpy.ndarray): The multi-class confusion matrix.\n",
        "\n",
        "    Returns:\n",
        "        pandas.DataFrame: A DataFrame with the metrics for each class.\n",
        "    \"\"\"\n",
        "\n",
        "\n",
        "    metrics_df['Accuracy'] = (metrics_df['TP'] + metrics_df['TN']) / cm.sum()\n",
        "    metrics_df['Precision'] = metrics_df['TP'] / (metrics_df['TP'] + metrics_df['FP'])\n",
        "    metrics_df['Recall'] = metrics_df['TP'] / (metrics_df['TP'] + metrics_df['FN'])\n",
        "    metrics_df['Specificity'] = metrics_df['TN'] / (metrics_df['TN'] + metrics_df['FP'])\n",
        "    metrics_df['F1-Score'] = 2 * (metrics_df['Precision'] * metrics_df['Recall']) / (metrics_df['Precision'] + metrics_df['Recall'])\n",
        "    metrics_df['FPR'] = metrics_df['FP'] / (metrics_df['TN'] + metrics_df['FP'])\n",
        "    metrics_df['FNR'] = metrics_df['FN'] / (metrics_df['TP'] + metrics_df['FN'])\n",
        "    metrics_df['MCC'] = (metrics_df['TP'] * metrics_df['TN'] - metrics_df['FP'] * metrics_df['FN']) / np.sqrt((metrics_df['TP'] + metrics_df['FP']) * (metrics_df['TP'] + metrics_df['FN']) * (metrics_df['TN'] + metrics_df['FP']) * (metrics_df['TN'] + metrics_df['FN']))\n",
        "\n",
        "    return metrics_df\n"
      ]
    },
    {
      "cell_type": "code",
      "execution_count": null,
      "metadata": {
        "colab": {
          "base_uri": "https://localhost:8080/",
          "height": 325
        },
        "id": "su9sURgH_DXk",
        "outputId": "0378d647-11e1-491c-8b1b-efcd0706f0ea"
      },
      "outputs": [
        {
          "output_type": "display_data",
          "data": {
            "text/plain": [
              "           TP   FP   TN   FN  Accuracy  Precision    Recall  Specificity  \\\n",
              "anger      25   60  797  118     0.822   0.294118  0.174825     0.929988   \n",
              "disgust     0    5  967   28     0.967   0.000000  0.000000     0.994856   \n",
              "fear        3   17  961   19     0.964   0.150000  0.136364     0.982618   \n",
              "joy        56  116  717  111     0.773   0.325581  0.335329     0.860744   \n",
              "neutral   312  260  267  161     0.579   0.545455  0.659619     0.506641   \n",
              "sadness    12   75  851   62     0.863   0.137931  0.162162     0.919006   \n",
              "surprise   20   39  868   73     0.888   0.338983  0.215054     0.957001   \n",
              "\n",
              "          F1-Score       FPR       FNR       MCC  \n",
              "anger     0.219298  0.070012  0.825175  0.131570  \n",
              "disgust        NaN  0.005144  1.000000 -0.012031  \n",
              "fear      0.142857  0.017382  0.863636  0.124661  \n",
              "joy       0.330383  0.139256  0.664671  0.193785  \n",
              "neutral   0.597129  0.493359  0.340381  0.167767  \n",
              "sadness   0.149068  0.080994  0.837838  0.075390  \n",
              "surprise  0.263158  0.042999  0.784946  0.212076  "
            ],
            "text/html": [
              "\n",
              "  <div id=\"df-60a36e30-ae07-428f-b9be-8c12be6d9bfe\" class=\"colab-df-container\">\n",
              "    <div>\n",
              "<style scoped>\n",
              "    .dataframe tbody tr th:only-of-type {\n",
              "        vertical-align: middle;\n",
              "    }\n",
              "\n",
              "    .dataframe tbody tr th {\n",
              "        vertical-align: top;\n",
              "    }\n",
              "\n",
              "    .dataframe thead th {\n",
              "        text-align: right;\n",
              "    }\n",
              "</style>\n",
              "<table border=\"1\" class=\"dataframe\">\n",
              "  <thead>\n",
              "    <tr style=\"text-align: right;\">\n",
              "      <th></th>\n",
              "      <th>TP</th>\n",
              "      <th>FP</th>\n",
              "      <th>TN</th>\n",
              "      <th>FN</th>\n",
              "      <th>Accuracy</th>\n",
              "      <th>Precision</th>\n",
              "      <th>Recall</th>\n",
              "      <th>Specificity</th>\n",
              "      <th>F1-Score</th>\n",
              "      <th>FPR</th>\n",
              "      <th>FNR</th>\n",
              "      <th>MCC</th>\n",
              "    </tr>\n",
              "  </thead>\n",
              "  <tbody>\n",
              "    <tr>\n",
              "      <th>anger</th>\n",
              "      <td>25</td>\n",
              "      <td>60</td>\n",
              "      <td>797</td>\n",
              "      <td>118</td>\n",
              "      <td>0.822</td>\n",
              "      <td>0.294118</td>\n",
              "      <td>0.174825</td>\n",
              "      <td>0.929988</td>\n",
              "      <td>0.219298</td>\n",
              "      <td>0.070012</td>\n",
              "      <td>0.825175</td>\n",
              "      <td>0.131570</td>\n",
              "    </tr>\n",
              "    <tr>\n",
              "      <th>disgust</th>\n",
              "      <td>0</td>\n",
              "      <td>5</td>\n",
              "      <td>967</td>\n",
              "      <td>28</td>\n",
              "      <td>0.967</td>\n",
              "      <td>0.000000</td>\n",
              "      <td>0.000000</td>\n",
              "      <td>0.994856</td>\n",
              "      <td>NaN</td>\n",
              "      <td>0.005144</td>\n",
              "      <td>1.000000</td>\n",
              "      <td>-0.012031</td>\n",
              "    </tr>\n",
              "    <tr>\n",
              "      <th>fear</th>\n",
              "      <td>3</td>\n",
              "      <td>17</td>\n",
              "      <td>961</td>\n",
              "      <td>19</td>\n",
              "      <td>0.964</td>\n",
              "      <td>0.150000</td>\n",
              "      <td>0.136364</td>\n",
              "      <td>0.982618</td>\n",
              "      <td>0.142857</td>\n",
              "      <td>0.017382</td>\n",
              "      <td>0.863636</td>\n",
              "      <td>0.124661</td>\n",
              "    </tr>\n",
              "    <tr>\n",
              "      <th>joy</th>\n",
              "      <td>56</td>\n",
              "      <td>116</td>\n",
              "      <td>717</td>\n",
              "      <td>111</td>\n",
              "      <td>0.773</td>\n",
              "      <td>0.325581</td>\n",
              "      <td>0.335329</td>\n",
              "      <td>0.860744</td>\n",
              "      <td>0.330383</td>\n",
              "      <td>0.139256</td>\n",
              "      <td>0.664671</td>\n",
              "      <td>0.193785</td>\n",
              "    </tr>\n",
              "    <tr>\n",
              "      <th>neutral</th>\n",
              "      <td>312</td>\n",
              "      <td>260</td>\n",
              "      <td>267</td>\n",
              "      <td>161</td>\n",
              "      <td>0.579</td>\n",
              "      <td>0.545455</td>\n",
              "      <td>0.659619</td>\n",
              "      <td>0.506641</td>\n",
              "      <td>0.597129</td>\n",
              "      <td>0.493359</td>\n",
              "      <td>0.340381</td>\n",
              "      <td>0.167767</td>\n",
              "    </tr>\n",
              "    <tr>\n",
              "      <th>sadness</th>\n",
              "      <td>12</td>\n",
              "      <td>75</td>\n",
              "      <td>851</td>\n",
              "      <td>62</td>\n",
              "      <td>0.863</td>\n",
              "      <td>0.137931</td>\n",
              "      <td>0.162162</td>\n",
              "      <td>0.919006</td>\n",
              "      <td>0.149068</td>\n",
              "      <td>0.080994</td>\n",
              "      <td>0.837838</td>\n",
              "      <td>0.075390</td>\n",
              "    </tr>\n",
              "    <tr>\n",
              "      <th>surprise</th>\n",
              "      <td>20</td>\n",
              "      <td>39</td>\n",
              "      <td>868</td>\n",
              "      <td>73</td>\n",
              "      <td>0.888</td>\n",
              "      <td>0.338983</td>\n",
              "      <td>0.215054</td>\n",
              "      <td>0.957001</td>\n",
              "      <td>0.263158</td>\n",
              "      <td>0.042999</td>\n",
              "      <td>0.784946</td>\n",
              "      <td>0.212076</td>\n",
              "    </tr>\n",
              "  </tbody>\n",
              "</table>\n",
              "</div>\n",
              "    <div class=\"colab-df-buttons\">\n",
              "\n",
              "  <div class=\"colab-df-container\">\n",
              "    <button class=\"colab-df-convert\" onclick=\"convertToInteractive('df-60a36e30-ae07-428f-b9be-8c12be6d9bfe')\"\n",
              "            title=\"Convert this dataframe to an interactive table.\"\n",
              "            style=\"display:none;\">\n",
              "\n",
              "  <svg xmlns=\"http://www.w3.org/2000/svg\" height=\"24px\" viewBox=\"0 -960 960 960\">\n",
              "    <path d=\"M120-120v-720h720v720H120Zm60-500h600v-160H180v160Zm220 220h160v-160H400v160Zm0 220h160v-160H400v160ZM180-400h160v-160H180v160Zm440 0h160v-160H620v160ZM180-180h160v-160H180v160Zm440 0h160v-160H620v160Z\"/>\n",
              "  </svg>\n",
              "    </button>\n",
              "\n",
              "  <style>\n",
              "    .colab-df-container {\n",
              "      display:flex;\n",
              "      gap: 12px;\n",
              "    }\n",
              "\n",
              "    .colab-df-convert {\n",
              "      background-color: #E8F0FE;\n",
              "      border: none;\n",
              "      border-radius: 50%;\n",
              "      cursor: pointer;\n",
              "      display: none;\n",
              "      fill: #1967D2;\n",
              "      height: 32px;\n",
              "      padding: 0 0 0 0;\n",
              "      width: 32px;\n",
              "    }\n",
              "\n",
              "    .colab-df-convert:hover {\n",
              "      background-color: #E2EBFA;\n",
              "      box-shadow: 0px 1px 2px rgba(60, 64, 67, 0.3), 0px 1px 3px 1px rgba(60, 64, 67, 0.15);\n",
              "      fill: #174EA6;\n",
              "    }\n",
              "\n",
              "    .colab-df-buttons div {\n",
              "      margin-bottom: 4px;\n",
              "    }\n",
              "\n",
              "    [theme=dark] .colab-df-convert {\n",
              "      background-color: #3B4455;\n",
              "      fill: #D2E3FC;\n",
              "    }\n",
              "\n",
              "    [theme=dark] .colab-df-convert:hover {\n",
              "      background-color: #434B5C;\n",
              "      box-shadow: 0px 1px 3px 1px rgba(0, 0, 0, 0.15);\n",
              "      filter: drop-shadow(0px 1px 2px rgba(0, 0, 0, 0.3));\n",
              "      fill: #FFFFFF;\n",
              "    }\n",
              "  </style>\n",
              "\n",
              "    <script>\n",
              "      const buttonEl =\n",
              "        document.querySelector('#df-60a36e30-ae07-428f-b9be-8c12be6d9bfe button.colab-df-convert');\n",
              "      buttonEl.style.display =\n",
              "        google.colab.kernel.accessAllowed ? 'block' : 'none';\n",
              "\n",
              "      async function convertToInteractive(key) {\n",
              "        const element = document.querySelector('#df-60a36e30-ae07-428f-b9be-8c12be6d9bfe');\n",
              "        const dataTable =\n",
              "          await google.colab.kernel.invokeFunction('convertToInteractive',\n",
              "                                                    [key], {});\n",
              "        if (!dataTable) return;\n",
              "\n",
              "        const docLinkHtml = 'Like what you see? Visit the ' +\n",
              "          '<a target=\"_blank\" href=https://colab.research.google.com/notebooks/data_table.ipynb>data table notebook</a>'\n",
              "          + ' to learn more about interactive tables.';\n",
              "        element.innerHTML = '';\n",
              "        dataTable['output_type'] = 'display_data';\n",
              "        await google.colab.output.renderOutput(dataTable, element);\n",
              "        const docLink = document.createElement('div');\n",
              "        docLink.innerHTML = docLinkHtml;\n",
              "        element.appendChild(docLink);\n",
              "      }\n",
              "    </script>\n",
              "  </div>\n",
              "\n",
              "\n",
              "<div id=\"df-36de828f-ffe6-4ac9-96a3-72cfe4b7a3e6\">\n",
              "  <button class=\"colab-df-quickchart\" onclick=\"quickchart('df-36de828f-ffe6-4ac9-96a3-72cfe4b7a3e6')\"\n",
              "            title=\"Suggest charts\"\n",
              "            style=\"display:none;\">\n",
              "\n",
              "<svg xmlns=\"http://www.w3.org/2000/svg\" height=\"24px\"viewBox=\"0 0 24 24\"\n",
              "     width=\"24px\">\n",
              "    <g>\n",
              "        <path d=\"M19 3H5c-1.1 0-2 .9-2 2v14c0 1.1.9 2 2 2h14c1.1 0 2-.9 2-2V5c0-1.1-.9-2-2-2zM9 17H7v-7h2v7zm4 0h-2V7h2v10zm4 0h-2v-4h2v4z\"/>\n",
              "    </g>\n",
              "</svg>\n",
              "  </button>\n",
              "\n",
              "<style>\n",
              "  .colab-df-quickchart {\n",
              "      --bg-color: #E8F0FE;\n",
              "      --fill-color: #1967D2;\n",
              "      --hover-bg-color: #E2EBFA;\n",
              "      --hover-fill-color: #174EA6;\n",
              "      --disabled-fill-color: #AAA;\n",
              "      --disabled-bg-color: #DDD;\n",
              "  }\n",
              "\n",
              "  [theme=dark] .colab-df-quickchart {\n",
              "      --bg-color: #3B4455;\n",
              "      --fill-color: #D2E3FC;\n",
              "      --hover-bg-color: #434B5C;\n",
              "      --hover-fill-color: #FFFFFF;\n",
              "      --disabled-bg-color: #3B4455;\n",
              "      --disabled-fill-color: #666;\n",
              "  }\n",
              "\n",
              "  .colab-df-quickchart {\n",
              "    background-color: var(--bg-color);\n",
              "    border: none;\n",
              "    border-radius: 50%;\n",
              "    cursor: pointer;\n",
              "    display: none;\n",
              "    fill: var(--fill-color);\n",
              "    height: 32px;\n",
              "    padding: 0;\n",
              "    width: 32px;\n",
              "  }\n",
              "\n",
              "  .colab-df-quickchart:hover {\n",
              "    background-color: var(--hover-bg-color);\n",
              "    box-shadow: 0 1px 2px rgba(60, 64, 67, 0.3), 0 1px 3px 1px rgba(60, 64, 67, 0.15);\n",
              "    fill: var(--button-hover-fill-color);\n",
              "  }\n",
              "\n",
              "  .colab-df-quickchart-complete:disabled,\n",
              "  .colab-df-quickchart-complete:disabled:hover {\n",
              "    background-color: var(--disabled-bg-color);\n",
              "    fill: var(--disabled-fill-color);\n",
              "    box-shadow: none;\n",
              "  }\n",
              "\n",
              "  .colab-df-spinner {\n",
              "    border: 2px solid var(--fill-color);\n",
              "    border-color: transparent;\n",
              "    border-bottom-color: var(--fill-color);\n",
              "    animation:\n",
              "      spin 1s steps(1) infinite;\n",
              "  }\n",
              "\n",
              "  @keyframes spin {\n",
              "    0% {\n",
              "      border-color: transparent;\n",
              "      border-bottom-color: var(--fill-color);\n",
              "      border-left-color: var(--fill-color);\n",
              "    }\n",
              "    20% {\n",
              "      border-color: transparent;\n",
              "      border-left-color: var(--fill-color);\n",
              "      border-top-color: var(--fill-color);\n",
              "    }\n",
              "    30% {\n",
              "      border-color: transparent;\n",
              "      border-left-color: var(--fill-color);\n",
              "      border-top-color: var(--fill-color);\n",
              "      border-right-color: var(--fill-color);\n",
              "    }\n",
              "    40% {\n",
              "      border-color: transparent;\n",
              "      border-right-color: var(--fill-color);\n",
              "      border-top-color: var(--fill-color);\n",
              "    }\n",
              "    60% {\n",
              "      border-color: transparent;\n",
              "      border-right-color: var(--fill-color);\n",
              "    }\n",
              "    80% {\n",
              "      border-color: transparent;\n",
              "      border-right-color: var(--fill-color);\n",
              "      border-bottom-color: var(--fill-color);\n",
              "    }\n",
              "    90% {\n",
              "      border-color: transparent;\n",
              "      border-bottom-color: var(--fill-color);\n",
              "    }\n",
              "  }\n",
              "</style>\n",
              "\n",
              "  <script>\n",
              "    async function quickchart(key) {\n",
              "      const quickchartButtonEl =\n",
              "        document.querySelector('#' + key + ' button');\n",
              "      quickchartButtonEl.disabled = true;  // To prevent multiple clicks.\n",
              "      quickchartButtonEl.classList.add('colab-df-spinner');\n",
              "      try {\n",
              "        const charts = await google.colab.kernel.invokeFunction(\n",
              "            'suggestCharts', [key], {});\n",
              "      } catch (error) {\n",
              "        console.error('Error during call to suggestCharts:', error);\n",
              "      }\n",
              "      quickchartButtonEl.classList.remove('colab-df-spinner');\n",
              "      quickchartButtonEl.classList.add('colab-df-quickchart-complete');\n",
              "    }\n",
              "    (() => {\n",
              "      let quickchartButtonEl =\n",
              "        document.querySelector('#df-36de828f-ffe6-4ac9-96a3-72cfe4b7a3e6 button');\n",
              "      quickchartButtonEl.style.display =\n",
              "        google.colab.kernel.accessAllowed ? 'block' : 'none';\n",
              "    })();\n",
              "  </script>\n",
              "</div>\n",
              "\n",
              "  <div id=\"id_48f72359-cc75-447d-bd54-7c4b7aaa0f94\">\n",
              "    <style>\n",
              "      .colab-df-generate {\n",
              "        background-color: #E8F0FE;\n",
              "        border: none;\n",
              "        border-radius: 50%;\n",
              "        cursor: pointer;\n",
              "        display: none;\n",
              "        fill: #1967D2;\n",
              "        height: 32px;\n",
              "        padding: 0 0 0 0;\n",
              "        width: 32px;\n",
              "      }\n",
              "\n",
              "      .colab-df-generate:hover {\n",
              "        background-color: #E2EBFA;\n",
              "        box-shadow: 0px 1px 2px rgba(60, 64, 67, 0.3), 0px 1px 3px 1px rgba(60, 64, 67, 0.15);\n",
              "        fill: #174EA6;\n",
              "      }\n",
              "\n",
              "      [theme=dark] .colab-df-generate {\n",
              "        background-color: #3B4455;\n",
              "        fill: #D2E3FC;\n",
              "      }\n",
              "\n",
              "      [theme=dark] .colab-df-generate:hover {\n",
              "        background-color: #434B5C;\n",
              "        box-shadow: 0px 1px 3px 1px rgba(0, 0, 0, 0.15);\n",
              "        filter: drop-shadow(0px 1px 2px rgba(0, 0, 0, 0.3));\n",
              "        fill: #FFFFFF;\n",
              "      }\n",
              "    </style>\n",
              "    <button class=\"colab-df-generate\" onclick=\"generateWithVariable('emo_df')\"\n",
              "            title=\"Generate code using this dataframe.\"\n",
              "            style=\"display:none;\">\n",
              "\n",
              "  <svg xmlns=\"http://www.w3.org/2000/svg\" height=\"24px\"viewBox=\"0 0 24 24\"\n",
              "       width=\"24px\">\n",
              "    <path d=\"M7,19H8.4L18.45,9,17,7.55,7,17.6ZM5,21V16.75L18.45,3.32a2,2,0,0,1,2.83,0l1.4,1.43a1.91,1.91,0,0,1,.58,1.4,1.91,1.91,0,0,1-.58,1.4L9.25,21ZM18.45,9,17,7.55Zm-12,3A5.31,5.31,0,0,0,4.9,8.1,5.31,5.31,0,0,0,1,6.5,5.31,5.31,0,0,0,4.9,4.9,5.31,5.31,0,0,0,6.5,1,5.31,5.31,0,0,0,8.1,4.9,5.31,5.31,0,0,0,12,6.5,5.46,5.46,0,0,0,6.5,12Z\"/>\n",
              "  </svg>\n",
              "    </button>\n",
              "    <script>\n",
              "      (() => {\n",
              "      const buttonEl =\n",
              "        document.querySelector('#id_48f72359-cc75-447d-bd54-7c4b7aaa0f94 button.colab-df-generate');\n",
              "      buttonEl.style.display =\n",
              "        google.colab.kernel.accessAllowed ? 'block' : 'none';\n",
              "\n",
              "      buttonEl.onclick = () => {\n",
              "        google.colab.notebook.generateWithVariable('emo_df');\n",
              "      }\n",
              "      })();\n",
              "    </script>\n",
              "  </div>\n",
              "\n",
              "    </div>\n",
              "  </div>\n"
            ]
          },
          "metadata": {}
        },
        {
          "output_type": "stream",
          "name": "stderr",
          "text": [
            "<ipython-input-25-93fdde300463>:14: FutureWarning: In future versions `DataFrame.to_latex` is expected to utilise the base implementation of `Styler.to_latex` for formatting and rendering. The arguments signature may therefore change. It is recommended instead to use `DataFrame.style.to_latex` which also contains additional functionality.\n",
            "  emo_df.to_latex(\"Figures/emo_metrics.tex\")\n"
          ]
        }
      ],
      "source": [
        "# metrics = calculate_metrics(sent_cm)\n",
        "# sent_df = pd.DataFrame({\"TP\":metrics[0], \"FP\":metrics[1], \"TN\":metrics[2], \"FN\":metrics[3]},index=sentiment_mapping.keys())\n",
        "# sent_df = class_metrics(sent_df,sent_cm)\n",
        "# display(sent_df)\n",
        "\n",
        "# sent_df.to_latex(\"Figures/sent_metrics.tex\")\n",
        "\n",
        "\n",
        "metrics = calculate_metrics(emo_cm)\n",
        "emo_df = pd.DataFrame({\"TP\":metrics[0], \"FP\":metrics[1], \"TN\":metrics[2], \"FN\":metrics[3]},index=emotion_mapping.keys())\n",
        "emo_df = class_metrics(emo_df,emo_cm)\n",
        "display(emo_df)\n",
        "\n",
        "emo_df.to_latex(\"Figures/emo_metrics.tex\")"
      ]
    },
    {
      "cell_type": "markdown",
      "metadata": {
        "id": "Zq3PD-J2FIUA"
      },
      "source": [
        "# ROC curves"
      ]
    },
    {
      "cell_type": "code",
      "execution_count": null,
      "metadata": {
        "id": "OpGXn510_Qha"
      },
      "outputs": [],
      "source": [
        "from sklearn.preprocessing import label_binarize\n",
        "from sklearn.metrics import roc_curve , auc\n",
        "\n",
        "def plot_roc(y_test,y_pred,num_classes,name,mapping):\n",
        "\n",
        "  # Binarize the labels\n",
        "  y_test_bin = label_binarize(y_test, classes=[i for i in range(num_classes)])\n",
        "\n",
        "  # Compute ROC curves and AUC scores\n",
        "  fpr = {}\n",
        "  tpr = {}\n",
        "  roc_auc = {}\n",
        "\n",
        "  # One hot encode y_pred (0,1,2) -> ([1,0,0],[0,1,0])\n",
        "  y_pred_enc = np.zeros((len(y_pred), num_classes))\n",
        "  for i in range(len(y_pred)):\n",
        "      y_pred_enc[i, y_pred[i]] = 1\n",
        "\n",
        "  for i in range(num_classes):\n",
        "      fpr[i], tpr[i], _ = roc_curve(y_test_bin[:, i], y_pred_enc[:, i])\n",
        "      roc_auc[i] = auc(fpr[i], tpr[i])\n",
        "\n",
        "  plt.plot(1,1)\n",
        "  for i in range(num_classes):\n",
        "      plt.plot(fpr[i], tpr[i], label=f'Class {i} (AUC = {roc_auc[i]:.2f})')\n",
        "\n",
        "  plt.xlabel('False Positive Rate')\n",
        "  plt.ylabel('True Positive Rate')\n",
        "  plt.title(f'ROC Curves for {name} Model')\n",
        "  plt.legend(loc='lower right')\n",
        "  plt.grid()\n",
        "  plt.savefig(f\"Figures/{name}_roc_curve.pdf\",format='pdf',dpi=300)\n",
        "  plt.show()"
      ]
    },
    {
      "cell_type": "code",
      "execution_count": null,
      "metadata": {
        "id": "vnB4XfkKHZJC"
      },
      "outputs": [],
      "source": [
        "# y_test = test_df[f'Sentiment_encoded'][:size].to_numpy() # Add a word dimension\n",
        "# plot_roc(y_test,sent_pred,3,\"Sentiment\")\n",
        "\n",
        "y_test = test_df[f'Emotion_encoded'][:size].to_numpy() # Add a word dimension\n",
        "plot_roc(y_test,emo_pred,7,\"Emotion\")"
      ]
    }
  ],
  "metadata": {
    "colab": {
      "provenance": []
    },
    "kernelspec": {
      "display_name": "Python 3",
      "name": "python3"
    },
    "language_info": {
      "name": "python"
    }
  },
  "nbformat": 4,
  "nbformat_minor": 0
}